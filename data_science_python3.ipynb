{
  "nbformat": 4,
  "nbformat_minor": 0,
  "metadata": {
    "colab": {
      "name": "data_science_python3.ipynb",
      "provenance": [],
      "authorship_tag": "ABX9TyONsTgtVoOwWu1qjKZIrxhC",
      "include_colab_link": true
    },
    "kernelspec": {
      "name": "python3",
      "display_name": "Python 3"
    },
    "language_info": {
      "name": "python"
    }
  },
  "cells": [
    {
      "cell_type": "markdown",
      "metadata": {
        "id": "view-in-github",
        "colab_type": "text"
      },
      "source": [
        "<a href=\"https://colab.research.google.com/github/Sokolkk/DataSciencePython/blob/main/data_science_python3.ipynb\" target=\"_parent\"><img src=\"https://colab.research.google.com/assets/colab-badge.svg\" alt=\"Open In Colab\"/></a>"
      ]
    },
    {
      "cell_type": "markdown",
      "metadata": {
        "id": "UAhu3fn5eMw0"
      },
      "source": [
        "##Data science основы с Python \n",
        " \n",
        "\n"
      ]
    },
    {
      "cell_type": "markdown",
      "metadata": {
        "id": "vhqXZWDXGBq6"
      },
      "source": [
        "###NumPy"
      ]
    },
    {
      "cell_type": "code",
      "metadata": {
        "id": "PS46kpQ2A5iw",
        "colab": {
          "base_uri": "https://localhost:8080/"
        },
        "outputId": "64fae720-4d7b-4dcd-c8ea-262ee4c50549"
      },
      "source": [
        "!pip install numpy"
      ],
      "execution_count": 1,
      "outputs": [
        {
          "output_type": "stream",
          "text": [
            "Requirement already satisfied: numpy in /usr/local/lib/python3.7/dist-packages (1.19.5)\n"
          ],
          "name": "stdout"
        }
      ]
    },
    {
      "cell_type": "code",
      "metadata": {
        "id": "E_YqzDLAz1dk",
        "colab": {
          "base_uri": "https://localhost:8080/"
        },
        "outputId": "480303eb-865a-4bad-9744-881d1e334231"
      },
      "source": [
        "import numpy as np\n",
        "arr = np.array((1, 2, 3, 4, 5))\n",
        "print(arr)"
      ],
      "execution_count": 7,
      "outputs": [
        {
          "output_type": "stream",
          "text": [
            "[1 2 3 4 5]\n"
          ],
          "name": "stdout"
        }
      ]
    },
    {
      "cell_type": "code",
      "metadata": {
        "colab": {
          "base_uri": "https://localhost:8080/"
        },
        "id": "qAAyR4QwN99S",
        "outputId": "654ae5e7-2be0-4ba2-905e-810a78b6ce24"
      },
      "source": [
        "type(arr)"
      ],
      "execution_count": 8,
      "outputs": [
        {
          "output_type": "execute_result",
          "data": {
            "text/plain": [
              "numpy.ndarray"
            ]
          },
          "metadata": {
            "tags": []
          },
          "execution_count": 8
        }
      ]
    },
    {
      "cell_type": "markdown",
      "metadata": {
        "id": "q-25UJGGPKjf"
      },
      "source": [
        "#размерность массивов nd"
      ]
    },
    {
      "cell_type": "code",
      "metadata": {
        "colab": {
          "base_uri": "https://localhost:8080/"
        },
        "id": "zmAt95CdPlaV",
        "outputId": "b3f42bba-5bec-4c64-a472-ef72b04d61dc"
      },
      "source": [
        "arr1 = np.array(22)\n",
        "arr2 = np.array((1, 2, 3, 4, 5))\n",
        "arr3 = np.array(((1, 2, 3), ( 3, 4, 5)))\n",
        "arr4 = np.array((((1, 2, 3, 4, 5), (1, 2, 3, 4, 5)),  ((1, 2, 3, 4, 5), (1, 2, 3, 4, 5))))\n",
        "print(arr1.ndim)\n",
        "print(arr2.ndim)\n",
        "print(arr3.ndim)\n",
        "print(arr4.ndim)"
      ],
      "execution_count": 20,
      "outputs": [
        {
          "output_type": "stream",
          "text": [
            "0\n",
            "1\n",
            "2\n",
            "3\n"
          ],
          "name": "stdout"
        }
      ]
    },
    {
      "cell_type": "code",
      "metadata": {
        "colab": {
          "base_uri": "https://localhost:8080/"
        },
        "id": "JCyo3MPdQcuY",
        "outputId": "9050b9af-53e8-4735-f606-07809f4ec282"
      },
      "source": [
        "print(arr1)\n",
        "print(arr2)\n",
        "print(arr3)\n",
        "print(arr4)"
      ],
      "execution_count": 21,
      "outputs": [
        {
          "output_type": "stream",
          "text": [
            "22\n",
            "[1 2 3 4 5]\n",
            "[[1 2 3]\n",
            " [3 4 5]]\n",
            "[[[1 2 3 4 5]\n",
            "  [1 2 3 4 5]]\n",
            "\n",
            " [[1 2 3 4 5]\n",
            "  [1 2 3 4 5]]]\n"
          ],
          "name": "stdout"
        }
      ]
    },
    {
      "cell_type": "code",
      "metadata": {
        "colab": {
          "base_uri": "https://localhost:8080/"
        },
        "id": "wyT7bbIvROkL",
        "outputId": "8846b03b-654d-456d-845a-db6f4a415d75"
      },
      "source": [
        "arr5 = np.array((1, 2, 3, 4, 5), ndmin=6)\n",
        "print(arr5)\n",
        "print(arr5.ndim)"
      ],
      "execution_count": 22,
      "outputs": [
        {
          "output_type": "stream",
          "text": [
            "[[[[[[1 2 3 4 5]]]]]]\n",
            "6\n"
          ],
          "name": "stdout"
        }
      ]
    },
    {
      "cell_type": "markdown",
      "metadata": {
        "id": "mD4c3kaWUfRJ"
      },
      "source": [
        "Индексирование массивов в NumPy"
      ]
    },
    {
      "cell_type": "code",
      "metadata": {
        "colab": {
          "base_uri": "https://localhost:8080/"
        },
        "id": "3H9wbqTnUwLq",
        "outputId": "4083afd9-7093-4b82-bcd4-c40e60a44cbc"
      },
      "source": [
        "arr = np.array((1, 2, 3, 4, 5))\n",
        "print(arr[0:-3])"
      ],
      "execution_count": 30,
      "outputs": [
        {
          "output_type": "stream",
          "text": [
            "[1 2]\n"
          ],
          "name": "stdout"
        }
      ]
    },
    {
      "cell_type": "code",
      "metadata": {
        "colab": {
          "base_uri": "https://localhost:8080/"
        },
        "id": "BL4yqrHNVoOT",
        "outputId": "b8d33f9c-125c-4602-f9d6-942a86572519"
      },
      "source": [
        "arr3 = np.array(((1, 2, 3), ( 3, 4, 5)))\n",
        "print(arr3[1,1])"
      ],
      "execution_count": 42,
      "outputs": [
        {
          "output_type": "stream",
          "text": [
            "4\n"
          ],
          "name": "stdout"
        }
      ]
    },
    {
      "cell_type": "code",
      "metadata": {
        "colab": {
          "base_uri": "https://localhost:8080/"
        },
        "id": "GWcgAJz_W60V",
        "outputId": "4b1254e8-f05b-4b14-9e33-1ce1ad431b0e"
      },
      "source": [
        "arr4 = np.array((((1, 2, 3, 4, 5), (6, 7, 8, 9, 10)),  ((11, 12, 13, 14, 15), (21, 22, 23, 24, 25))))\n",
        "print(arr4[0,1,1])"
      ],
      "execution_count": 49,
      "outputs": [
        {
          "output_type": "stream",
          "text": [
            "7\n"
          ],
          "name": "stdout"
        }
      ]
    }
  ]
}